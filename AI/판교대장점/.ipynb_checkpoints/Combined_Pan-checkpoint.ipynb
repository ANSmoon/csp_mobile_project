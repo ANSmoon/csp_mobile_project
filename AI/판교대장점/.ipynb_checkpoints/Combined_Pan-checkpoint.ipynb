{
 "cells": [
  {
   "cell_type": "code",
   "execution_count": 1,
   "id": "35fb79b6-f23d-4f27-b82f-76d0f762a1ba",
   "metadata": {},
   "outputs": [],
   "source": [
    "import pandas as pd\n",
    "import datetime\n",
    "import numpy as np\n",
    "import matplotlib as mp\n",
    "import matplotlib.pyplot as plt\n",
    "import os\n",
    "from prophet import Prophet\n",
    "import pandas as pd"
   ]
  },
  {
   "cell_type": "code",
   "execution_count": 2,
   "id": "76def30b-007a-4bc4-aba3-8660d2e4dcbe",
   "metadata": {},
   "outputs": [],
   "source": [
    "df = pd.read_csv(\"Combined_Pan.csv\").iloc[:,:2]\n",
    "real = pd.read_csv(\"11.csv\").iloc[:7,:2]"
   ]
  },
  {
   "cell_type": "code",
   "execution_count": 3,
   "id": "f0dada6a-84a9-4316-8743-7f818c557b26",
   "metadata": {},
   "outputs": [],
   "source": [
    "df['ds'] = pd.to_datetime(df['ds'], errors = 'coerce')\n",
    "real['ds'] = pd.to_datetime(real['ds'], errors = 'coerce')"
   ]
  },
  {
   "cell_type": "code",
   "execution_count": 4,
   "id": "266628c6-fa0a-4f08-9a1e-7e87e034649a",
   "metadata": {},
   "outputs": [],
   "source": [
    "df['y'] = df['y'].str.replace(',', '').astype('int64')\n",
    "real['y'] = real['y'].str.replace(',', '').astype('int64')"
   ]
  },
  {
   "cell_type": "code",
   "execution_count": 5,
   "id": "c69e71e6-7787-43ba-8cde-3d3a1937c2c3",
   "metadata": {},
   "outputs": [],
   "source": [
    "df.loc[df['y'] == 0, 'y'] = df['y'].mean()\n",
    "df['y'] = df['y'].round(0)\n",
    "real.loc[real['y'] == 0, 'y'] = real['y'].mean()\n",
    "real['y'] = real['y'].round(0)"
   ]
  },
  {
   "cell_type": "code",
   "execution_count": 6,
   "id": "3ce482ef-f1b9-4622-9838-1afd2840d664",
   "metadata": {},
   "outputs": [
    {
     "name": "stderr",
     "output_type": "stream",
     "text": [
      "05:45:43 - cmdstanpy - INFO - Chain [1] start processing\n",
      "05:45:43 - cmdstanpy - INFO - Chain [1] done processing\n"
     ]
    },
    {
     "data": {
      "text/plain": [
       "<prophet.forecaster.Prophet at 0x16654a8e250>"
      ]
     },
     "execution_count": 6,
     "metadata": {},
     "output_type": "execute_result"
    }
   ],
   "source": [
    "model = Prophet()\n",
    "\n",
    "model.fit(df)"
   ]
  },
  {
   "cell_type": "code",
   "execution_count": 7,
   "id": "47e60a28-9a7f-455a-a2d7-a1d249b046c5",
   "metadata": {},
   "outputs": [],
   "source": [
    "start_date='20231101'\n",
    "end_date='20231107'\n",
    "future_7days=pd.date_range(start=start_date, end=end_date, freq='D')\n",
    "future_7days = pd.DataFrame(future_7days, columns = ['ds'])\n",
    "future_7days['ds']= pd.to_datetime(future_7days['ds'])"
   ]
  },
  {
   "cell_type": "code",
   "execution_count": 8,
   "id": "164bbec2-39a2-4337-ad7e-a83f66aa0e0e",
   "metadata": {},
   "outputs": [],
   "source": [
    "forecast = model.predict(future_7days) # 향후 11월 1일부터 11월 8일까지의 예측, dataFrame에 저장"
   ]
  },
  {
   "cell_type": "code",
   "execution_count": 9,
   "id": "53496220-7557-416d-9e7a-faedc157704a",
   "metadata": {},
   "outputs": [],
   "source": [
    "f_date = forecast['ds'] #날짜\n",
    "f_min = forecast['yhat_lower'] #최솟값\n",
    "f_max = forecast['yhat_upper'] #최댓값\n",
    "f_mean = forecast['yhat'] #평균값"
   ]
  },
  {
   "cell_type": "code",
   "execution_count": 10,
   "id": "e3f8798d-7682-4a17-a5f0-29c17e039408",
   "metadata": {},
   "outputs": [],
   "source": [
    "Date = real['ds'].reset_index(drop = True)"
   ]
  },
  {
   "cell_type": "code",
   "execution_count": 11,
   "id": "bd1fe694-6bb8-46cd-afbc-f2a4179597f1",
   "metadata": {},
   "outputs": [
    {
     "data": {
      "text/html": [
       "<div>\n",
       "<style scoped>\n",
       "    .dataframe tbody tr th:only-of-type {\n",
       "        vertical-align: middle;\n",
       "    }\n",
       "\n",
       "    .dataframe tbody tr th {\n",
       "        vertical-align: top;\n",
       "    }\n",
       "\n",
       "    .dataframe thead th {\n",
       "        text-align: right;\n",
       "    }\n",
       "</style>\n",
       "<table border=\"1\" class=\"dataframe\">\n",
       "  <thead>\n",
       "    <tr style=\"text-align: right;\">\n",
       "      <th></th>\n",
       "      <th>ds</th>\n",
       "      <th>y</th>\n",
       "    </tr>\n",
       "  </thead>\n",
       "  <tbody>\n",
       "    <tr>\n",
       "      <th>0</th>\n",
       "      <td>2023-11-01</td>\n",
       "      <td>139400.0</td>\n",
       "    </tr>\n",
       "    <tr>\n",
       "      <th>1</th>\n",
       "      <td>2023-11-02</td>\n",
       "      <td>200800.0</td>\n",
       "    </tr>\n",
       "    <tr>\n",
       "      <th>2</th>\n",
       "      <td>2023-11-03</td>\n",
       "      <td>105900.0</td>\n",
       "    </tr>\n",
       "    <tr>\n",
       "      <th>3</th>\n",
       "      <td>2023-11-04</td>\n",
       "      <td>313600.0</td>\n",
       "    </tr>\n",
       "    <tr>\n",
       "      <th>4</th>\n",
       "      <td>2023-11-05</td>\n",
       "      <td>238600.0</td>\n",
       "    </tr>\n",
       "    <tr>\n",
       "      <th>5</th>\n",
       "      <td>2023-11-06</td>\n",
       "      <td>158629.0</td>\n",
       "    </tr>\n",
       "    <tr>\n",
       "      <th>6</th>\n",
       "      <td>2023-11-07</td>\n",
       "      <td>112100.0</td>\n",
       "    </tr>\n",
       "  </tbody>\n",
       "</table>\n",
       "</div>"
      ],
      "text/plain": [
       "          ds         y\n",
       "0 2023-11-01  139400.0\n",
       "1 2023-11-02  200800.0\n",
       "2 2023-11-03  105900.0\n",
       "3 2023-11-04  313600.0\n",
       "4 2023-11-05  238600.0\n",
       "5 2023-11-06  158629.0\n",
       "6 2023-11-07  112100.0"
      ]
     },
     "execution_count": 11,
     "metadata": {},
     "output_type": "execute_result"
    }
   ],
   "source": [
    "real"
   ]
  },
  {
   "cell_type": "code",
   "execution_count": 12,
   "id": "7546b8e4-b62a-4e89-ab31-d5510d53e33d",
   "metadata": {},
   "outputs": [],
   "source": [
    "Actual_Sales = real['y'].reset_index(drop = True)"
   ]
  },
  {
   "cell_type": "code",
   "execution_count": 13,
   "id": "89cc0618-9b38-4086-8103-59236d805317",
   "metadata": {},
   "outputs": [],
   "source": [
    "Expected_sales = f_mean.round(0)"
   ]
  },
  {
   "cell_type": "code",
   "execution_count": 14,
   "id": "edca873b-6e29-40f5-b1d0-503be227d1dd",
   "metadata": {},
   "outputs": [],
   "source": [
    "Error_Rate = ((Actual_Sales - f_mean.round(0))/f_mean.round(0)).mul(100).abs().round(0)"
   ]
  },
  {
   "cell_type": "code",
   "execution_count": 15,
   "id": "a5cf6b99-ca70-4695-b8b3-973cabc4c6e5",
   "metadata": {},
   "outputs": [],
   "source": [
    "verification = pd.DataFrame({'Date' : Date,'Actual_Sales' : Actual_Sales, \n",
    "                            'Expected_Sales' : Expected_sales, 'Error_Rate' : Error_Rate.astype('str') + '%'})"
   ]
  },
  {
   "cell_type": "code",
   "execution_count": 16,
   "id": "68213a90-b776-4d38-ae29-f70674422c35",
   "metadata": {},
   "outputs": [
    {
     "data": {
      "text/html": [
       "<div>\n",
       "<style scoped>\n",
       "    .dataframe tbody tr th:only-of-type {\n",
       "        vertical-align: middle;\n",
       "    }\n",
       "\n",
       "    .dataframe tbody tr th {\n",
       "        vertical-align: top;\n",
       "    }\n",
       "\n",
       "    .dataframe thead th {\n",
       "        text-align: right;\n",
       "    }\n",
       "</style>\n",
       "<table border=\"1\" class=\"dataframe\">\n",
       "  <thead>\n",
       "    <tr style=\"text-align: right;\">\n",
       "      <th></th>\n",
       "      <th>Date</th>\n",
       "      <th>Actual_Sales</th>\n",
       "      <th>Expected_Sales</th>\n",
       "      <th>Error_Rate</th>\n",
       "    </tr>\n",
       "  </thead>\n",
       "  <tbody>\n",
       "    <tr>\n",
       "      <th>0</th>\n",
       "      <td>2023-11-01</td>\n",
       "      <td>139400.0</td>\n",
       "      <td>176467.0</td>\n",
       "      <td>21.0%</td>\n",
       "    </tr>\n",
       "    <tr>\n",
       "      <th>1</th>\n",
       "      <td>2023-11-02</td>\n",
       "      <td>200800.0</td>\n",
       "      <td>166275.0</td>\n",
       "      <td>21.0%</td>\n",
       "    </tr>\n",
       "    <tr>\n",
       "      <th>2</th>\n",
       "      <td>2023-11-03</td>\n",
       "      <td>105900.0</td>\n",
       "      <td>181794.0</td>\n",
       "      <td>42.0%</td>\n",
       "    </tr>\n",
       "    <tr>\n",
       "      <th>3</th>\n",
       "      <td>2023-11-04</td>\n",
       "      <td>313600.0</td>\n",
       "      <td>259342.0</td>\n",
       "      <td>21.0%</td>\n",
       "    </tr>\n",
       "    <tr>\n",
       "      <th>4</th>\n",
       "      <td>2023-11-05</td>\n",
       "      <td>238600.0</td>\n",
       "      <td>252775.0</td>\n",
       "      <td>6.0%</td>\n",
       "    </tr>\n",
       "    <tr>\n",
       "      <th>5</th>\n",
       "      <td>2023-11-06</td>\n",
       "      <td>158629.0</td>\n",
       "      <td>166054.0</td>\n",
       "      <td>4.0%</td>\n",
       "    </tr>\n",
       "    <tr>\n",
       "      <th>6</th>\n",
       "      <td>2023-11-07</td>\n",
       "      <td>112100.0</td>\n",
       "      <td>174185.0</td>\n",
       "      <td>36.0%</td>\n",
       "    </tr>\n",
       "  </tbody>\n",
       "</table>\n",
       "</div>"
      ],
      "text/plain": [
       "        Date  Actual_Sales  Expected_Sales Error_Rate\n",
       "0 2023-11-01      139400.0        176467.0      21.0%\n",
       "1 2023-11-02      200800.0        166275.0      21.0%\n",
       "2 2023-11-03      105900.0        181794.0      42.0%\n",
       "3 2023-11-04      313600.0        259342.0      21.0%\n",
       "4 2023-11-05      238600.0        252775.0       6.0%\n",
       "5 2023-11-06      158629.0        166054.0       4.0%\n",
       "6 2023-11-07      112100.0        174185.0      36.0%"
      ]
     },
     "execution_count": 16,
     "metadata": {},
     "output_type": "execute_result"
    }
   ],
   "source": [
    "verification"
   ]
  },
  {
   "cell_type": "code",
   "execution_count": 17,
   "id": "f45baf6f-7200-4007-9354-89e22c794a2e",
   "metadata": {},
   "outputs": [
    {
     "data": {
      "text/plain": [
       "22"
      ]
     },
     "execution_count": 17,
     "metadata": {},
     "output_type": "execute_result"
    }
   ],
   "source": [
    "Error_Rate_Mean = round(Error_Rate.mean())\n",
    "Error_Rate_Mean"
   ]
  },
  {
   "cell_type": "code",
   "execution_count": 18,
   "id": "a86442e4-b30f-43c9-8506-bbf466f702b4",
   "metadata": {},
   "outputs": [
    {
     "name": "stdout",
     "output_type": "stream",
     "text": [
      "2197221402 40776 46875\n"
     ]
    }
   ],
   "source": [
    "mse = round(((f_mean - Actual_Sales) ** 2).mean())\n",
    "mae = round(np.abs(f_mean - Actual_Sales).mean())\n",
    "rmse = round(np.sqrt(mse))\n",
    "print(mse,mae,rmse)"
   ]
  },
  {
   "cell_type": "code",
   "execution_count": null,
   "id": "e00899cb-79af-4841-bb6a-5189873ac83c",
   "metadata": {},
   "outputs": [],
   "source": []
  }
 ],
 "metadata": {
  "kernelspec": {
   "display_name": "Python 3 (ipykernel)",
   "language": "python",
   "name": "python3"
  },
  "language_info": {
   "codemirror_mode": {
    "name": "ipython",
    "version": 3
   },
   "file_extension": ".py",
   "mimetype": "text/x-python",
   "name": "python",
   "nbconvert_exporter": "python",
   "pygments_lexer": "ipython3",
   "version": "3.9.18"
  }
 },
 "nbformat": 4,
 "nbformat_minor": 5
}
