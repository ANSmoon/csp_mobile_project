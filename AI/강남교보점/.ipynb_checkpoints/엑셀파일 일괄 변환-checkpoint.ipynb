{
 "cells": [
  {
   "cell_type": "code",
   "execution_count": 16,
   "id": "f1ff5cc7-4bd1-427a-9ebe-cb7ea3bf4211",
   "metadata": {},
   "outputs": [
    {
     "name": "stdout",
     "output_type": "stream",
     "text": [
      "*** No CODEPAGE record, no encoding_override: will use 'iso-8859-1'\n",
      "*** No CODEPAGE record, no encoding_override: will use 'iso-8859-1'\n",
      "*** No CODEPAGE record, no encoding_override: will use 'iso-8859-1'\n",
      "*** No CODEPAGE record, no encoding_override: will use 'iso-8859-1'\n",
      "*** No CODEPAGE record, no encoding_override: will use 'iso-8859-1'\n",
      "*** No CODEPAGE record, no encoding_override: will use 'iso-8859-1'\n",
      "*** No CODEPAGE record, no encoding_override: will use 'iso-8859-1'\n",
      "*** No CODEPAGE record, no encoding_override: will use 'iso-8859-1'\n",
      "*** No CODEPAGE record, no encoding_override: will use 'iso-8859-1'\n",
      "*** No CODEPAGE record, no encoding_override: will use 'iso-8859-1'\n",
      "*** No CODEPAGE record, no encoding_override: will use 'iso-8859-1'\n"
     ]
    }
   ],
   "source": [
    "import os\n",
    "import pandas as pd\n",
    "\n",
    "# 엑셀 파일 변환 함수\n",
    "def convert_excel_to_csv(folder_path):\n",
    "    for root, dirs, files in os.walk(folder_path):\n",
    "        for file in files:\n",
    "            if file.endswith('.xlsx') or file.endswith('.xls'):  # 엑셀 파일 확인\n",
    "                excel_file = os.path.join(root, file)  # 파일 경로 생성\n",
    "                csv_file = os.path.join(root, f\"{os.path.splitext(file)[0]}.csv\")  # CSV 파일 경로 생성\n",
    "\n",
    "                # 엑셀 파일을 pandas 데이터프레임으로 읽기\n",
    "                data = pd.read_excel(excel_file)\n",
    "\n",
    "                # 데이터프레임을 CSV 파일로 저장\n",
    "                data.to_csv(csv_file, index=False)  # index=False로 설정하면 인덱스를 CSV 파일에 저장하지 않습니다\n",
    "\n",
    "# 변환하려는 폴더의 절대 경로를 입력하세요\n",
    "folder_path = r'C:/Users/munbe/Final project/강남교보점'\n",
    "\n",
    "# 폴더 내의 모든 엑셀 파일을 CSV로 변환\n",
    "convert_excel_to_csv(folder_path)\n"
   ]
  }
 ],
 "metadata": {
  "kernelspec": {
   "display_name": "Python 3 (ipykernel)",
   "language": "python",
   "name": "python3"
  },
  "language_info": {
   "codemirror_mode": {
    "name": "ipython",
    "version": 3
   },
   "file_extension": ".py",
   "mimetype": "text/x-python",
   "name": "python",
   "nbconvert_exporter": "python",
   "pygments_lexer": "ipython3",
   "version": "3.9.18"
  }
 },
 "nbformat": 4,
 "nbformat_minor": 5
}
