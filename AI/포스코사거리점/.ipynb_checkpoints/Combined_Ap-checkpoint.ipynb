{
 "cells": [
  {
   "cell_type": "code",
   "execution_count": 1,
   "id": "2c0325fa-356e-4402-906b-d482acb34690",
   "metadata": {},
   "outputs": [],
   "source": [
    "import pandas as pd\n",
    "import datetime\n",
    "import numpy as np\n",
    "import matplotlib as mp\n",
    "import matplotlib.pyplot as plt\n",
    "import os\n",
    "from prophet import Prophet\n",
    "import pandas as pd"
   ]
  },
  {
   "cell_type": "code",
   "execution_count": 2,
   "id": "2868aeae-c037-41d7-8af1-37a68d7dd2b1",
   "metadata": {},
   "outputs": [
    {
     "data": {
      "text/html": [
       "<div>\n",
       "<style scoped>\n",
       "    .dataframe tbody tr th:only-of-type {\n",
       "        vertical-align: middle;\n",
       "    }\n",
       "\n",
       "    .dataframe tbody tr th {\n",
       "        vertical-align: top;\n",
       "    }\n",
       "\n",
       "    .dataframe thead th {\n",
       "        text-align: right;\n",
       "    }\n",
       "</style>\n",
       "<table border=\"1\" class=\"dataframe\">\n",
       "  <thead>\n",
       "    <tr style=\"text-align: right;\">\n",
       "      <th></th>\n",
       "      <th>ds</th>\n",
       "      <th>y</th>\n",
       "    </tr>\n",
       "  </thead>\n",
       "  <tbody>\n",
       "    <tr>\n",
       "      <th>0</th>\n",
       "      <td>2023-05-01</td>\n",
       "      <td>0</td>\n",
       "    </tr>\n",
       "    <tr>\n",
       "      <th>1</th>\n",
       "      <td>2023-05-02</td>\n",
       "      <td>0</td>\n",
       "    </tr>\n",
       "    <tr>\n",
       "      <th>2</th>\n",
       "      <td>2023-05-03</td>\n",
       "      <td>0</td>\n",
       "    </tr>\n",
       "    <tr>\n",
       "      <th>3</th>\n",
       "      <td>2023-05-04</td>\n",
       "      <td>0</td>\n",
       "    </tr>\n",
       "    <tr>\n",
       "      <th>4</th>\n",
       "      <td>2023-05-05</td>\n",
       "      <td>0</td>\n",
       "    </tr>\n",
       "    <tr>\n",
       "      <th>...</th>\n",
       "      <td>...</td>\n",
       "      <td>...</td>\n",
       "    </tr>\n",
       "    <tr>\n",
       "      <th>179</th>\n",
       "      <td>2023-10-27</td>\n",
       "      <td>1,199,359</td>\n",
       "    </tr>\n",
       "    <tr>\n",
       "      <th>180</th>\n",
       "      <td>2023-10-28</td>\n",
       "      <td>127,150</td>\n",
       "    </tr>\n",
       "    <tr>\n",
       "      <th>181</th>\n",
       "      <td>2023-10-29</td>\n",
       "      <td>185,600</td>\n",
       "    </tr>\n",
       "    <tr>\n",
       "      <th>182</th>\n",
       "      <td>2023-10-30</td>\n",
       "      <td>1,300,985</td>\n",
       "    </tr>\n",
       "    <tr>\n",
       "      <th>183</th>\n",
       "      <td>2023-10-31</td>\n",
       "      <td>1,213,624</td>\n",
       "    </tr>\n",
       "  </tbody>\n",
       "</table>\n",
       "<p>184 rows × 2 columns</p>\n",
       "</div>"
      ],
      "text/plain": [
       "             ds          y\n",
       "0    2023-05-01          0\n",
       "1    2023-05-02          0\n",
       "2    2023-05-03          0\n",
       "3    2023-05-04          0\n",
       "4    2023-05-05          0\n",
       "..          ...        ...\n",
       "179  2023-10-27  1,199,359\n",
       "180  2023-10-28    127,150\n",
       "181  2023-10-29    185,600\n",
       "182  2023-10-30  1,300,985\n",
       "183  2023-10-31  1,213,624\n",
       "\n",
       "[184 rows x 2 columns]"
      ]
     },
     "execution_count": 2,
     "metadata": {},
     "output_type": "execute_result"
    }
   ],
   "source": [
    "df = pd.read_csv(\"Combined_Po.csv\").iloc[:,:2]\n",
    "df"
   ]
  },
  {
   "cell_type": "code",
   "execution_count": 3,
   "id": "f68a0f13-45ac-41f7-81e8-fc8d6e1ad6fc",
   "metadata": {},
   "outputs": [],
   "source": [
    "df['ds'] = pd.to_datetime(df['ds'], errors = 'coerce')"
   ]
  },
  {
   "cell_type": "code",
   "execution_count": 4,
   "id": "f8fe12cd-f936-4b24-b085-6b1c1409eda5",
   "metadata": {},
   "outputs": [],
   "source": [
    "df['y'] = df['y'].str.replace(',', '').astype('int64')"
   ]
  },
  {
   "cell_type": "code",
   "execution_count": 5,
   "id": "5c8bfb43-6c23-48ac-8b95-a0d69c2520fd",
   "metadata": {},
   "outputs": [],
   "source": [
    "df['y'] = pd.to_numeric(df['y'], errors = 'coerce')"
   ]
  },
  {
   "cell_type": "code",
   "execution_count": 6,
   "id": "3a5efa50-63da-4f19-be4f-aff8b5a1e3a9",
   "metadata": {},
   "outputs": [],
   "source": [
    "df.loc[df['y'] == 0, 'y'] = df['y'].mean()\n",
    "df['y'] = df['y'].round(0)"
   ]
  },
  {
   "cell_type": "code",
   "execution_count": 7,
   "id": "e0f081ca-6267-411c-9903-e0f4115a48ff",
   "metadata": {},
   "outputs": [
    {
     "data": {
      "text/html": [
       "<div>\n",
       "<style scoped>\n",
       "    .dataframe tbody tr th:only-of-type {\n",
       "        vertical-align: middle;\n",
       "    }\n",
       "\n",
       "    .dataframe tbody tr th {\n",
       "        vertical-align: top;\n",
       "    }\n",
       "\n",
       "    .dataframe thead th {\n",
       "        text-align: right;\n",
       "    }\n",
       "</style>\n",
       "<table border=\"1\" class=\"dataframe\">\n",
       "  <thead>\n",
       "    <tr style=\"text-align: right;\">\n",
       "      <th></th>\n",
       "      <th>ds</th>\n",
       "      <th>y</th>\n",
       "    </tr>\n",
       "  </thead>\n",
       "  <tbody>\n",
       "    <tr>\n",
       "      <th>0</th>\n",
       "      <td>2023-05-01</td>\n",
       "      <td>846816.0</td>\n",
       "    </tr>\n",
       "    <tr>\n",
       "      <th>1</th>\n",
       "      <td>2023-05-02</td>\n",
       "      <td>846816.0</td>\n",
       "    </tr>\n",
       "    <tr>\n",
       "      <th>2</th>\n",
       "      <td>2023-05-03</td>\n",
       "      <td>846816.0</td>\n",
       "    </tr>\n",
       "    <tr>\n",
       "      <th>3</th>\n",
       "      <td>2023-05-04</td>\n",
       "      <td>846816.0</td>\n",
       "    </tr>\n",
       "    <tr>\n",
       "      <th>4</th>\n",
       "      <td>2023-05-05</td>\n",
       "      <td>846816.0</td>\n",
       "    </tr>\n",
       "    <tr>\n",
       "      <th>...</th>\n",
       "      <td>...</td>\n",
       "      <td>...</td>\n",
       "    </tr>\n",
       "    <tr>\n",
       "      <th>179</th>\n",
       "      <td>2023-10-27</td>\n",
       "      <td>1199359.0</td>\n",
       "    </tr>\n",
       "    <tr>\n",
       "      <th>180</th>\n",
       "      <td>2023-10-28</td>\n",
       "      <td>127150.0</td>\n",
       "    </tr>\n",
       "    <tr>\n",
       "      <th>181</th>\n",
       "      <td>2023-10-29</td>\n",
       "      <td>185600.0</td>\n",
       "    </tr>\n",
       "    <tr>\n",
       "      <th>182</th>\n",
       "      <td>2023-10-30</td>\n",
       "      <td>1300985.0</td>\n",
       "    </tr>\n",
       "    <tr>\n",
       "      <th>183</th>\n",
       "      <td>2023-10-31</td>\n",
       "      <td>1213624.0</td>\n",
       "    </tr>\n",
       "  </tbody>\n",
       "</table>\n",
       "<p>184 rows × 2 columns</p>\n",
       "</div>"
      ],
      "text/plain": [
       "            ds          y\n",
       "0   2023-05-01   846816.0\n",
       "1   2023-05-02   846816.0\n",
       "2   2023-05-03   846816.0\n",
       "3   2023-05-04   846816.0\n",
       "4   2023-05-05   846816.0\n",
       "..         ...        ...\n",
       "179 2023-10-27  1199359.0\n",
       "180 2023-10-28   127150.0\n",
       "181 2023-10-29   185600.0\n",
       "182 2023-10-30  1300985.0\n",
       "183 2023-10-31  1213624.0\n",
       "\n",
       "[184 rows x 2 columns]"
      ]
     },
     "execution_count": 7,
     "metadata": {},
     "output_type": "execute_result"
    }
   ],
   "source": [
    "df"
   ]
  },
  {
   "cell_type": "code",
   "execution_count": 8,
   "id": "cddc46ac-0f0b-40ff-bb2d-874e1640793e",
   "metadata": {},
   "outputs": [
    {
     "name": "stderr",
     "output_type": "stream",
     "text": [
      "00:53:42 - cmdstanpy - INFO - Chain [1] start processing\n",
      "00:53:42 - cmdstanpy - INFO - Chain [1] done processing\n"
     ]
    },
    {
     "data": {
      "text/plain": [
       "<prophet.forecaster.Prophet at 0x1fc6e820250>"
      ]
     },
     "execution_count": 8,
     "metadata": {},
     "output_type": "execute_result"
    }
   ],
   "source": [
    "model = Prophet()\n",
    "\n",
    "model.fit(df)"
   ]
  },
  {
   "cell_type": "code",
   "execution_count": 9,
   "id": "c54be987-9165-4b54-b140-586427618917",
   "metadata": {},
   "outputs": [],
   "source": [
    "start_date='20231025'\n",
    "end_date='20231031'\n",
    "future_7days=pd.date_range(start=start_date, end=end_date, freq='D')\n",
    "future_7days = pd.DataFrame(future_7days, columns = ['ds'])\n",
    "future_7days['ds']= pd.to_datetime(future_7days['ds'])"
   ]
  },
  {
   "cell_type": "code",
   "execution_count": 10,
   "id": "e2219f08-00d5-489f-849d-8c9e2cd5016b",
   "metadata": {},
   "outputs": [],
   "source": [
    "forecast = model.predict(future_7days)"
   ]
  },
  {
   "cell_type": "code",
   "execution_count": 11,
   "id": "edbaf006-a4e5-45c2-9138-9e49483819cb",
   "metadata": {},
   "outputs": [],
   "source": [
    "f_date = forecast['ds'] #날짜\n",
    "f_min = forecast['yhat_lower'] #최솟값\n",
    "f_max = forecast['yhat_upper'] #최댓값\n",
    "f_mean = forecast['yhat'] #평균값"
   ]
  },
  {
   "cell_type": "code",
   "execution_count": 12,
   "id": "d19860e1-971d-475c-9220-ad86dca0d4c7",
   "metadata": {},
   "outputs": [],
   "source": [
    "Date = df['ds'].iloc[-7:].reset_index(drop = True)"
   ]
  },
  {
   "cell_type": "code",
   "execution_count": 13,
   "id": "c8bae64f-07b2-4cd4-946d-41c28d6ed338",
   "metadata": {},
   "outputs": [],
   "source": [
    "Actual_Sales = df['y'].iloc[-7:].reset_index(drop = True)"
   ]
  },
  {
   "cell_type": "code",
   "execution_count": 14,
   "id": "795a05db-af12-439d-a801-7533edc06ef0",
   "metadata": {},
   "outputs": [],
   "source": [
    "Expected_sales = f_mean.round(0)"
   ]
  },
  {
   "cell_type": "code",
   "execution_count": 15,
   "id": "074324f9-2837-4727-a184-9f21c1f902c6",
   "metadata": {},
   "outputs": [],
   "source": [
    "Error_Rate = ((Actual_Sales - f_mean.round(0))/f_mean.round(0)).mul(100).abs().round(0)"
   ]
  },
  {
   "cell_type": "code",
   "execution_count": 16,
   "id": "78ab7291-8202-40ce-8956-75acb06a67a5",
   "metadata": {},
   "outputs": [],
   "source": [
    "verification = pd.DataFrame({'Date' : Date,'Actual_Sales' : Actual_Sales, \n",
    "                            'Expected_Sales' : Expected_sales, 'Error_Rate' : Error_Rate.astype('str') + '%'})"
   ]
  },
  {
   "cell_type": "code",
   "execution_count": 17,
   "id": "d62f1e42-238f-416e-a01e-6dad488965b1",
   "metadata": {},
   "outputs": [
    {
     "data": {
      "text/html": [
       "<div>\n",
       "<style scoped>\n",
       "    .dataframe tbody tr th:only-of-type {\n",
       "        vertical-align: middle;\n",
       "    }\n",
       "\n",
       "    .dataframe tbody tr th {\n",
       "        vertical-align: top;\n",
       "    }\n",
       "\n",
       "    .dataframe thead th {\n",
       "        text-align: right;\n",
       "    }\n",
       "</style>\n",
       "<table border=\"1\" class=\"dataframe\">\n",
       "  <thead>\n",
       "    <tr style=\"text-align: right;\">\n",
       "      <th></th>\n",
       "      <th>Date</th>\n",
       "      <th>Actual_Sales</th>\n",
       "      <th>Expected_Sales</th>\n",
       "      <th>Error_Rate</th>\n",
       "    </tr>\n",
       "  </thead>\n",
       "  <tbody>\n",
       "    <tr>\n",
       "      <th>0</th>\n",
       "      <td>2023-10-25</td>\n",
       "      <td>1145445.0</td>\n",
       "      <td>1226714.0</td>\n",
       "      <td>7.0%</td>\n",
       "    </tr>\n",
       "    <tr>\n",
       "      <th>1</th>\n",
       "      <td>2023-10-26</td>\n",
       "      <td>1254875.0</td>\n",
       "      <td>1233686.0</td>\n",
       "      <td>2.0%</td>\n",
       "    </tr>\n",
       "    <tr>\n",
       "      <th>2</th>\n",
       "      <td>2023-10-27</td>\n",
       "      <td>1199359.0</td>\n",
       "      <td>1100336.0</td>\n",
       "      <td>9.0%</td>\n",
       "    </tr>\n",
       "    <tr>\n",
       "      <th>3</th>\n",
       "      <td>2023-10-28</td>\n",
       "      <td>127150.0</td>\n",
       "      <td>164309.0</td>\n",
       "      <td>23.0%</td>\n",
       "    </tr>\n",
       "    <tr>\n",
       "      <th>4</th>\n",
       "      <td>2023-10-29</td>\n",
       "      <td>185600.0</td>\n",
       "      <td>126079.0</td>\n",
       "      <td>47.0%</td>\n",
       "    </tr>\n",
       "    <tr>\n",
       "      <th>5</th>\n",
       "      <td>2023-10-30</td>\n",
       "      <td>1300985.0</td>\n",
       "      <td>1115895.0</td>\n",
       "      <td>17.0%</td>\n",
       "    </tr>\n",
       "    <tr>\n",
       "      <th>6</th>\n",
       "      <td>2023-10-31</td>\n",
       "      <td>1213624.0</td>\n",
       "      <td>1116029.0</td>\n",
       "      <td>9.0%</td>\n",
       "    </tr>\n",
       "  </tbody>\n",
       "</table>\n",
       "</div>"
      ],
      "text/plain": [
       "        Date  Actual_Sales  Expected_Sales Error_Rate\n",
       "0 2023-10-25     1145445.0       1226714.0       7.0%\n",
       "1 2023-10-26     1254875.0       1233686.0       2.0%\n",
       "2 2023-10-27     1199359.0       1100336.0       9.0%\n",
       "3 2023-10-28      127150.0        164309.0      23.0%\n",
       "4 2023-10-29      185600.0        126079.0      47.0%\n",
       "5 2023-10-30     1300985.0       1115895.0      17.0%\n",
       "6 2023-10-31     1213624.0       1116029.0       9.0%"
      ]
     },
     "execution_count": 17,
     "metadata": {},
     "output_type": "execute_result"
    }
   ],
   "source": [
    "verification"
   ]
  },
  {
   "cell_type": "code",
   "execution_count": 18,
   "id": "618e7a71-e8d5-42b5-8ab7-dca4ea798b97",
   "metadata": {},
   "outputs": [
    {
     "data": {
      "text/plain": [
       "16"
      ]
     },
     "execution_count": 18,
     "metadata": {},
     "output_type": "execute_result"
    }
   ],
   "source": [
    "Error_Rate_Mean = round(Error_Rate.mean())\n",
    "Error_Rate_Mean"
   ]
  },
  {
   "cell_type": "code",
   "execution_count": null,
   "id": "ce961814-8c47-461f-ada7-bf35158bc86e",
   "metadata": {},
   "outputs": [],
   "source": []
  }
 ],
 "metadata": {
  "kernelspec": {
   "display_name": "Python 3 (ipykernel)",
   "language": "python",
   "name": "python3"
  },
  "language_info": {
   "codemirror_mode": {
    "name": "ipython",
    "version": 3
   },
   "file_extension": ".py",
   "mimetype": "text/x-python",
   "name": "python",
   "nbconvert_exporter": "python",
   "pygments_lexer": "ipython3",
   "version": "3.9.18"
  }
 },
 "nbformat": 4,
 "nbformat_minor": 5
}
